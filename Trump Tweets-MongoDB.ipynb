{
 "cells": [
  {
   "cell_type": "code",
   "execution_count": 1,
   "id": "50c4ff1d",
   "metadata": {},
   "outputs": [],
   "source": [
    "from vaderSentiment.vaderSentiment import SentimentIntensityAnalyzer\n",
    "import pandas as pd\n",
    "import pyspark.sql.functions as F\n",
    "from pyspark.sql.functions import col, udf, to_date\n",
    "from pyspark.sql.types import FloatType\n",
    "import matplotlib.pyplot as plt\n",
    "import pyspark\n",
    "from pyspark import SparkContext\n",
    "from pyspark.sql import SparkSession, SQLContext"
   ]
  },
  {
   "cell_type": "code",
   "execution_count": 2,
   "id": "a5cfed24",
   "metadata": {},
   "outputs": [
    {
     "name": "stdout",
     "output_type": "stream",
     "text": [
      "3.2.4\n"
     ]
    }
   ],
   "source": [
    "print(pyspark.__version__)\n",
    " \n"
   ]
  },
  {
   "cell_type": "code",
   "execution_count": 3,
   "id": "f30160ae",
   "metadata": {},
   "outputs": [
    {
     "name": "stderr",
     "output_type": "stream",
     "text": [
      "                                                                                \r"
     ]
    }
   ],
   "source": [
    "df = (spark.read\n",
    "      .format(\"mongo\")\n",
    "      .option(\"spark.mongodb.input.uri\", \"mongodb://localhost:27017\")\n",
    "      .option(\"spark.mongodb.input.database\", \"TrumpTweets\")\n",
    "      .option(\"spark.mongodb.input.collection\", \"TrumpTweetsCollection\")\n",
    "      .option(\"spark.mongodb.input.partitioner\", \"MongoSinglePartitioner\")\n",
    "      .load())\n"
   ]
  },
  {
   "cell_type": "markdown",
   "id": "16144320",
   "metadata": {},
   "source": [
    "df = (spark.read\n",
    "      .format(\"mongo\")\n",
    "      .option(\"spark.mongodb.input.uri\", \"mongodb://localhost:27017\")\n",
    "      .option(\"spark.mongodb.input.database\", \"TrumpDB\")\n",
    "      .option(\"spark.mongodb.input.collection\", \"TrumpCollection\")\n",
    "      .option(\"spark.mongodb.input.partitioner\", \"MongoSinglePartitioner\")\n",
    "      .load())\n"
   ]
  },
  {
   "cell_type": "code",
   "execution_count": 4,
   "id": "c0c696a5",
   "metadata": {},
   "outputs": [
    {
     "name": "stdout",
     "output_type": "stream",
     "text": [
      "['_id', 'content', 'date', 'favorites', 'hashtags', 'id', 'link', 'mentions', 'retweets']\n"
     ]
    }
   ],
   "source": [
    "print(df.columns)"
   ]
  },
  {
   "cell_type": "code",
   "execution_count": 5,
   "id": "eef35ac0",
   "metadata": {
    "scrolled": false
   },
   "outputs": [],
   "source": [
    "df = df.select(\"date\", \"content\")"
   ]
  },
  {
   "cell_type": "code",
   "execution_count": 6,
   "id": "1a32688a",
   "metadata": {},
   "outputs": [
    {
     "name": "stderr",
     "output_type": "stream",
     "text": [
      "\r",
      "[Stage 1:>                                                          (0 + 1) / 1]\r"
     ]
    },
    {
     "name": "stdout",
     "output_type": "stream",
     "text": [
      "43352\n"
     ]
    },
    {
     "name": "stderr",
     "output_type": "stream",
     "text": [
      "\r",
      "                                                                                \r"
     ]
    }
   ],
   "source": [
    "print(df.count())"
   ]
  },
  {
   "cell_type": "code",
   "execution_count": null,
   "id": "bd87eee6",
   "metadata": {},
   "outputs": [],
   "source": [
    "#df.show()"
   ]
  },
  {
   "cell_type": "code",
   "execution_count": 7,
   "id": "96557282",
   "metadata": {},
   "outputs": [],
   "source": [
    "tweets = df.na.drop()\n"
   ]
  },
  {
   "cell_type": "code",
   "execution_count": 8,
   "id": "94f489d0",
   "metadata": {},
   "outputs": [
    {
     "data": {
      "text/plain": [
       "43352"
      ]
     },
     "execution_count": 8,
     "metadata": {},
     "output_type": "execute_result"
    }
   ],
   "source": [
    "tweets.count()"
   ]
  },
  {
   "cell_type": "code",
   "execution_count": 9,
   "id": "3995d25c",
   "metadata": {},
   "outputs": [
    {
     "name": "stdout",
     "output_type": "stream",
     "text": [
      "+-------------------+--------------------+\n",
      "|               date|             content|\n",
      "+-------------------+--------------------+\n",
      "|2009-05-04 13:54:25|Be sure to tune i...|\n",
      "|2009-05-04 20:00:10|Donald Trump will...|\n",
      "|2009-05-08 08:38:08|Donald Trump read...|\n",
      "|2009-05-08 15:40:15|New Blog Post: Ce...|\n",
      "|2009-05-12 09:07:28|\"My persona will ...|\n",
      "|2009-05-12 14:21:55|Miss USA Tara Con...|\n",
      "|2009-05-13 12:38:28|Listen to an inte...|\n",
      "|2009-05-14 11:30:40|\"Strive for whole...|\n",
      "|2009-05-15 09:13:13|Enter the \"Think ...|\n",
      "|2009-05-16 17:22:45|\"When the achieve...|\n",
      "|2009-05-17 10:00:03|\"Don’t be afraid ...|\n",
      "|2009-05-18 09:26:00|\"We win in our li...|\n",
      "|2009-05-19 12:43:39|\"...these days......|\n",
      "|2009-05-20 08:25:39|\"Always know you ...|\n",
      "|2009-05-20 17:29:47|Read a great inte...|\n",
      "|2009-05-21 21:59:39|\"Keep it fast, sh...|\n",
      "|2009-05-22 11:28:34|Don't forget to e...|\n",
      "|2009-05-23 11:11:19|Did you know Dona...|\n",
      "|2009-05-26 09:42:01|\"Your higher self...|\n",
      "|2009-05-27 09:18:52|Read an excerpt f...|\n",
      "+-------------------+--------------------+\n",
      "only showing top 20 rows\n",
      "\n"
     ]
    }
   ],
   "source": [
    "tweets.show()"
   ]
  },
  {
   "cell_type": "code",
   "execution_count": 10,
   "id": "012695a3",
   "metadata": {},
   "outputs": [
    {
     "data": {
      "text/plain": [
       "<function __main__.analyze_sentiment(text)>"
      ]
     },
     "execution_count": 10,
     "metadata": {},
     "output_type": "execute_result"
    }
   ],
   "source": [
    "analyzer = SentimentIntensityAnalyzer()\n",
    "\n",
    "def analyze_sentiment(text):\n",
    "    return analyzer.polarity_scores(text)[\"compound\"]\n",
    "\n",
    "sentiment_udf = udf(analyze_sentiment, FloatType())\n",
    "spark.udf.register(\"sentiment_udf\", sentiment_udf)"
   ]
  },
  {
   "cell_type": "code",
   "execution_count": 11,
   "id": "523e5d73",
   "metadata": {},
   "outputs": [],
   "source": [
    "# Convert timestamp to date\n",
    "tweets = tweets.withColumn(\"date\", to_date(col(\"date\")))\n",
    "\n",
    "# Calculate sentiment score for each tweet\n",
    "tweets = tweets.withColumn(\"sentiment\", sentiment_udf(col(\"content\")))\n"
   ]
  },
  {
   "cell_type": "code",
   "execution_count": 12,
   "id": "9a2c2f1e",
   "metadata": {},
   "outputs": [
    {
     "name": "stderr",
     "output_type": "stream",
     "text": [
      "\r",
      "[Stage 8:>                                                          (0 + 1) / 1]\r"
     ]
    },
    {
     "name": "stdout",
     "output_type": "stream",
     "text": [
      "+----------+--------------------+---------+\n",
      "|      date|             content|sentiment|\n",
      "+----------+--------------------+---------+\n",
      "|2009-05-04|Be sure to tune i...|   0.5255|\n",
      "|2009-05-04|Donald Trump will...|   0.7712|\n",
      "|2009-05-08|Donald Trump read...|   0.6468|\n",
      "|2009-05-08|New Blog Post: Ce...|      0.0|\n",
      "|2009-05-12|\"My persona will ...|      0.0|\n",
      "|2009-05-12|Miss USA Tara Con...|   0.4809|\n",
      "|2009-05-13|Listen to an inte...|   0.7506|\n",
      "|2009-05-14|\"Strive for whole...|   0.2023|\n",
      "|2009-05-15|Enter the \"Think ...|   0.7506|\n",
      "|2009-05-16|\"When the achieve...|      0.0|\n",
      "|2009-05-17|\"Don’t be afraid ...|   0.7717|\n",
      "|2009-05-18|\"We win in our li...|   0.5859|\n",
      "|2009-05-19|\"...these days......|      0.0|\n",
      "|2009-05-20|\"Always know you ...|   0.6249|\n",
      "|2009-05-20|Read a great inte...|   0.6249|\n",
      "|2009-05-21|\"Keep it fast, sh...|      0.0|\n",
      "|2009-05-22|Don't forget to e...|   0.7944|\n",
      "|2009-05-23|Did you know Dona...|   0.3802|\n",
      "|2009-05-26|\"Your higher self...|   0.3612|\n",
      "|2009-05-27|Read an excerpt f...|   0.7506|\n",
      "+----------+--------------------+---------+\n",
      "only showing top 20 rows\n",
      "\n"
     ]
    },
    {
     "name": "stderr",
     "output_type": "stream",
     "text": [
      "\r",
      "                                                                                \r"
     ]
    }
   ],
   "source": [
    "tweets.show()"
   ]
  },
  {
   "cell_type": "code",
   "execution_count": 13,
   "id": "b41e6345",
   "metadata": {},
   "outputs": [],
   "source": [
    "groupedDF = tweets.groupBy(\"date\") \\\n",
    "    .agg(F.mean(\"sentiment\").alias(\"avg_sentiment\")) \\\n",
    "    .orderBy(\"date\")"
   ]
  },
  {
   "cell_type": "code",
   "execution_count": 14,
   "id": "8b4a035f",
   "metadata": {},
   "outputs": [
    {
     "name": "stderr",
     "output_type": "stream",
     "text": [
      "\r",
      "[Stage 9:>                                                          (0 + 1) / 1]\r"
     ]
    },
    {
     "name": "stdout",
     "output_type": "stream",
     "text": [
      "+----------+-------------------+\n",
      "|      date|      avg_sentiment|\n",
      "+----------+-------------------+\n",
      "|2009-05-04| 0.6483500003814697|\n",
      "|2009-05-08|0.32339999079704285|\n",
      "|2009-05-12|0.24044999480247498|\n",
      "|2009-05-13| 0.7505999803543091|\n",
      "|2009-05-14|0.20229999721050262|\n",
      "|2009-05-15| 0.7505999803543091|\n",
      "|2009-05-16|                0.0|\n",
      "|2009-05-17| 0.7717000246047974|\n",
      "|2009-05-18| 0.5859000086784363|\n",
      "|2009-05-19|                0.0|\n",
      "|2009-05-20| 0.6248999834060669|\n",
      "|2009-05-21|                0.0|\n",
      "|2009-05-22| 0.7943999767303467|\n",
      "|2009-05-23|0.38019999861717224|\n",
      "|2009-05-26| 0.3612000048160553|\n",
      "|2009-05-27| 0.7505999803543091|\n",
      "|2009-05-28|                0.0|\n",
      "|2009-06-03|                0.0|\n",
      "|2009-06-05| 0.3935000002384186|\n",
      "|2009-06-08| 0.7505999803543091|\n",
      "+----------+-------------------+\n",
      "only showing top 20 rows\n",
      "\n"
     ]
    },
    {
     "name": "stderr",
     "output_type": "stream",
     "text": [
      "\r",
      "                                                                                \r"
     ]
    }
   ],
   "source": [
    "groupedDF.show()"
   ]
  },
  {
   "cell_type": "code",
   "execution_count": 15,
   "id": "eea265bb",
   "metadata": {
    "scrolled": false
   },
   "outputs": [
    {
     "name": "stderr",
     "output_type": "stream",
     "text": [
      "                                                                                \r"
     ]
    }
   ],
   "source": [
    "groupedPD = groupedDF.toPandas()"
   ]
  },
  {
   "cell_type": "code",
   "execution_count": 25,
   "id": "4a020087",
   "metadata": {},
   "outputs": [
    {
     "name": "stderr",
     "output_type": "stream",
     "text": [
      "/tmp/ipykernel_2893/2736247694.py:1: SettingWithCopyWarning: \n",
      "A value is trying to be set on a copy of a slice from a DataFrame.\n",
      "Try using .loc[row_indexer,col_indexer] = value instead\n",
      "\n",
      "See the caveats in the documentation: https://pandas.pydata.org/pandas-docs/stable/user_guide/indexing.html#returning-a-view-versus-a-copy\n",
      "  groupedPD['moving_average'] = groupedPD['avg_sentiment'].rolling(window=365).mean()\n"
     ]
    }
   ],
   "source": [
    "groupedPD['moving_average'] = groupedPD['avg_sentiment'].rolling(window=365).mean()"
   ]
  },
  {
   "cell_type": "code",
   "execution_count": 26,
   "id": "f169b1b9",
   "metadata": {},
   "outputs": [
    {
     "name": "stderr",
     "output_type": "stream",
     "text": [
      "/tmp/ipykernel_2893/1753231781.py:1: SettingWithCopyWarning: \n",
      "A value is trying to be set on a copy of a slice from a DataFrame.\n",
      "Try using .loc[row_indexer,col_indexer] = value instead\n",
      "\n",
      "See the caveats in the documentation: https://pandas.pydata.org/pandas-docs/stable/user_guide/indexing.html#returning-a-view-versus-a-copy\n",
      "  groupedPD['date'] = pd.to_datetime(groupedPD['date'] )\n"
     ]
    }
   ],
   "source": [
    "groupedPD['date'] = pd.to_datetime(groupedPD['date'] )"
   ]
  },
  {
   "cell_type": "code",
   "execution_count": 27,
   "id": "7a3b7d37",
   "metadata": {},
   "outputs": [],
   "source": [
    "groupedPD = groupedPD[groupedPD['date'].dt.year > 2013]"
   ]
  },
  {
   "cell_type": "code",
   "execution_count": 28,
   "id": "62b7b105",
   "metadata": {
    "scrolled": true
   },
   "outputs": [
    {
     "data": {
      "text/plain": [
       "[<matplotlib.lines.Line2D at 0x7f6c67e00c10>]"
      ]
     },
     "execution_count": 28,
     "metadata": {},
     "output_type": "execute_result"
    },
    {
     "data": {
      "image/png": "[encoded data removed]",
      "text/plain": [
       "<Figure size 432x288 with 1 Axes>"
      ]
     },
     "metadata": {
      "needs_background": "light"
     },
     "output_type": "display_data"
    }
   ],
   "source": [
    "plt.plot(groupedPD['date'],groupedPD['avg_sentiment'])\n",
    "plt.plot(groupedPD['date'],groupedPD['moving_average'])"
   ]
  },
  {
   "cell_type": "code",
   "execution_count": null,
   "id": "79e656ef",
   "metadata": {},
   "outputs": [],
   "source": []
  }
 ],
 "metadata": {
  "kernelspec": {
   "display_name": "Python 3 (ipykernel)",
   "language": "python",
   "name": "python3"
  },
  "language_info": {
   "codemirror_mode": {
    "name": "ipython",
    "version": 3
   },
   "file_extension": ".py",
   "mimetype": "text/x-python",
   "name": "python",
   "nbconvert_exporter": "python",
   "pygments_lexer": "ipython3",
   "version": "3.10.7"
  }
 },
 "nbformat": 4,
 "nbformat_minor": 5
}
