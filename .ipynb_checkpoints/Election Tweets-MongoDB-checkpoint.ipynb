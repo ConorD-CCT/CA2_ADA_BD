{
 "cells": [
  {
   "cell_type": "code",
   "execution_count": 1,
   "id": "50c4ff1d",
   "metadata": {},
   "outputs": [],
   "source": [
    "from vaderSentiment.vaderSentiment import SentimentIntensityAnalyzer\n",
    "import pandas as pd\n",
    "import pyspark.sql.functions as F\n",
    "from pyspark.sql.functions import col, udf, to_date\n",
    "from pyspark.sql.types import FloatType\n",
    "import matplotlib.pyplot as plt\n",
    "import pyspark\n",
    "from pyspark import SparkContext\n",
    "from pyspark.sql import SparkSession, SQLContext"
   ]
  },
  {
   "cell_type": "code",
   "execution_count": 2,
   "id": "a5cfed24",
   "metadata": {},
   "outputs": [
    {
     "name": "stdout",
     "output_type": "stream",
     "text": [
      "3.2.4\n"
     ]
    }
   ],
   "source": [
    "print(pyspark.__version__)\n",
    " \n"
   ]
  },
  {
   "cell_type": "code",
   "execution_count": 3,
   "id": "ddb18839",
   "metadata": {},
   "outputs": [
    {
     "name": "stderr",
     "output_type": "stream",
     "text": [
      "                                                                                \r"
     ]
    }
   ],
   "source": [
    "df = (spark.read\n",
    "      .format(\"mongo\")\n",
    "      .option(\"spark.mongodb.input.uri\", \"mongodb://localhost:27017\")\n",
    "      .option(\"spark.mongodb.input.database\", \"TrumpDB\")\n",
    "      .option(\"spark.mongodb.input.collection\", \"TrumpCollection\")\n",
    "      .option(\"spark.mongodb.input.partitioner\", \"MongoSinglePartitioner\")\n",
    "      .load())\n"
   ]
  },
  {
   "cell_type": "code",
   "execution_count": 4,
   "id": "c0c696a5",
   "metadata": {},
   "outputs": [
    {
     "name": "stdout",
     "output_type": "stream",
     "text": [
      "['_id', 'candidate_id', 'created_at', 'device', 'favorite_count', 'id', 'inserted_at', 'lang', 'polarity', 'retweet_count', 'retweeted_status_id', 'state', 'subjectivity', 'tw_user_id', 'tweet_id', 'tweet_text', 'updated_at']\n"
     ]
    }
   ],
   "source": [
    "print(df.columns)"
   ]
  },
  {
   "cell_type": "code",
   "execution_count": 5,
   "id": "eef35ac0",
   "metadata": {
    "scrolled": false
   },
   "outputs": [],
   "source": [
    "df = df.select('candidate_id', \"created_at\", \"tweet_text\")"
   ]
  },
  {
   "cell_type": "code",
   "execution_count": null,
   "id": "1a32688a",
   "metadata": {},
   "outputs": [],
   "source": [
    "print(df.count())"
   ]
  },
  {
   "cell_type": "code",
   "execution_count": null,
   "id": "bd87eee6",
   "metadata": {},
   "outputs": [],
   "source": [
    "#df.show()"
   ]
  },
  {
   "cell_type": "code",
   "execution_count": 6,
   "id": "96557282",
   "metadata": {},
   "outputs": [],
   "source": [
    "df_no_nulls = df.na.drop()\n",
    "tweets = df_no_nulls.filter(df.candidate_id == 2)"
   ]
  },
  {
   "cell_type": "code",
   "execution_count": null,
   "id": "94f489d0",
   "metadata": {},
   "outputs": [],
   "source": [
    "#tweets.show()"
   ]
  },
  {
   "cell_type": "code",
   "execution_count": 15,
   "id": "6d4f97a8",
   "metadata": {},
   "outputs": [],
   "source": [
    "tweetsCandidates = df_no_nulls.filter(df.candidate_id == 4)"
   ]
  },
  {
   "cell_type": "code",
   "execution_count": 16,
   "id": "8b9b50c8",
   "metadata": {},
   "outputs": [
    {
     "name": "stdout",
     "output_type": "stream",
     "text": [
      "+------------+-------------------+--------------------+\n",
      "|candidate_id|         created_at|          tweet_text|\n",
      "+------------+-------------------+--------------------+\n",
      "|           4|2017-02-17 08:48:57|@realDonaldTrump ...|\n",
      "|           4|2017-02-17 11:54:18|@BernieSanders No...|\n",
      "|           4|2017-02-17 11:54:44|@BernieSanders Ma...|\n",
      "|           4|2017-02-17 11:55:19|@BernieSanders ha...|\n",
      "|           4|2017-02-17 08:47:42|@robdelaney @jaso...|\n",
      "|           4|2017-02-17 08:50:50|Fight me, Trumpy ...|\n",
      "|           4|2017-02-17 11:54:02|@BernieSanders Mr...|\n",
      "|           4|2017-02-17 08:52:39|@SenWarren @timka...|\n",
      "|           4|2017-02-17 08:56:40|@BernieSanders an...|\n",
      "|           4|2017-02-17 11:54:51|@WietskeBreet @NO...|\n",
      "|           4|2017-02-17 08:55:53|#Repost @berniesa...|\n",
      "|           4|2017-02-17 08:57:55|@BernieSanders No...|\n",
      "|           4|2017-02-17 08:58:23|@realDonaldTrump ...|\n",
      "|           4|2017-02-17 11:55:25|@BernieSanders Cl...|\n",
      "|           4|2017-02-17 08:53:28|The Future Of The...|\n",
      "|           4|2017-02-17 08:55:13|Our Revolution: A...|\n",
      "|           4|2017-02-17 09:02:15|@deanhepburn @sra...|\n",
      "|           4|2017-02-17 09:06:46|What is Democrati...|\n",
      "|           4|2017-02-17 09:06:45|@FriendsofJimmys ...|\n",
      "|           4|2017-02-17 09:08:24|Russia-phobe @Ber...|\n",
      "+------------+-------------------+--------------------+\n",
      "only showing top 20 rows\n",
      "\n"
     ]
    }
   ],
   "source": [
    "tweetsCandidates.show()"
   ]
  },
  {
   "cell_type": "code",
   "execution_count": 7,
   "id": "012695a3",
   "metadata": {},
   "outputs": [
    {
     "data": {
      "text/plain": [
       "<function __main__.analyze_sentiment(text)>"
      ]
     },
     "execution_count": 7,
     "metadata": {},
     "output_type": "execute_result"
    }
   ],
   "source": [
    "analyzer = SentimentIntensityAnalyzer()\n",
    "\n",
    "def analyze_sentiment(text):\n",
    "    return analyzer.polarity_scores(text)[\"compound\"]\n",
    "\n",
    "sentiment_udf = udf(analyze_sentiment, FloatType())\n",
    "spark.udf.register(\"sentiment_udf\", sentiment_udf)"
   ]
  },
  {
   "cell_type": "code",
   "execution_count": 8,
   "id": "523e5d73",
   "metadata": {},
   "outputs": [],
   "source": [
    "# Convert timestamp to date\n",
    "tweets = tweets.withColumn(\"date\", to_date(col(\"created_at\")))\n",
    "\n",
    "# Calculate sentiment score for each tweet\n",
    "tweets = tweets.withColumn(\"sentiment\", sentiment_udf(col(\"tweet_text\")))\n"
   ]
  },
  {
   "cell_type": "code",
   "execution_count": 9,
   "id": "361650ce",
   "metadata": {},
   "outputs": [],
   "source": [
    "tweets = tweets.select('tweet_text','date','sentiment')"
   ]
  },
  {
   "cell_type": "code",
   "execution_count": null,
   "id": "42337435",
   "metadata": {},
   "outputs": [],
   "source": [
    "#tweets.show()"
   ]
  },
  {
   "cell_type": "code",
   "execution_count": 10,
   "id": "0c84466c",
   "metadata": {},
   "outputs": [],
   "source": [
    "from pyspark.sql.functions import year\n",
    "\n",
    "# filter out out-of-range dates\n",
    "tweets = tweets.filter((year(\"date\") >= 1) & (year(\"date\") <= 9999))"
   ]
  },
  {
   "cell_type": "code",
   "execution_count": 11,
   "id": "b41e6345",
   "metadata": {},
   "outputs": [],
   "source": [
    "daily_sentiment_df = tweets.groupBy(\"date\") \\\n",
    "    .agg(F.mean(\"sentiment\").alias(\"avg_sentiment\")) \\\n",
    "    .orderBy(\"date\")"
   ]
  },
  {
   "cell_type": "code",
   "execution_count": null,
   "id": "8b4a035f",
   "metadata": {},
   "outputs": [],
   "source": [
    "daily_sentiment_df.count()"
   ]
  },
  {
   "cell_type": "code",
   "execution_count": 12,
   "id": "eea265bb",
   "metadata": {
    "scrolled": true
   },
   "outputs": [
    {
     "name": "stderr",
     "output_type": "stream",
     "text": [
      "                                                                                \r"
     ]
    }
   ],
   "source": [
    "daily_sentiment_pd = daily_sentiment_df.toPandas()"
   ]
  },
  {
   "cell_type": "code",
   "execution_count": 13,
   "id": "89ac4860",
   "metadata": {},
   "outputs": [
    {
     "data": {
      "text/html": [
       "<div>\n",
       "<style scoped>\n",
       "    .dataframe tbody tr th:only-of-type {\n",
       "        vertical-align: middle;\n",
       "    }\n",
       "\n",
       "    .dataframe tbody tr th {\n",
       "        vertical-align: top;\n",
       "    }\n",
       "\n",
       "    .dataframe thead th {\n",
       "        text-align: right;\n",
       "    }\n",
       "</style>\n",
       "<table border=\"1\" class=\"dataframe\">\n",
       "  <thead>\n",
       "    <tr style=\"text-align: right;\">\n",
       "      <th></th>\n",
       "      <th>date</th>\n",
       "      <th>avg_sentiment</th>\n",
       "    </tr>\n",
       "  </thead>\n",
       "  <tbody>\n",
       "    <tr>\n",
       "      <th>0</th>\n",
       "      <td>2016-08-30</td>\n",
       "      <td>0.004792</td>\n",
       "    </tr>\n",
       "    <tr>\n",
       "      <th>1</th>\n",
       "      <td>2016-08-31</td>\n",
       "      <td>0.017462</td>\n",
       "    </tr>\n",
       "    <tr>\n",
       "      <th>2</th>\n",
       "      <td>2016-09-01</td>\n",
       "      <td>-0.012195</td>\n",
       "    </tr>\n",
       "    <tr>\n",
       "      <th>3</th>\n",
       "      <td>2016-09-02</td>\n",
       "      <td>-0.005316</td>\n",
       "    </tr>\n",
       "    <tr>\n",
       "      <th>4</th>\n",
       "      <td>2016-09-03</td>\n",
       "      <td>0.016786</td>\n",
       "    </tr>\n",
       "    <tr>\n",
       "      <th>...</th>\n",
       "      <td>...</td>\n",
       "      <td>...</td>\n",
       "    </tr>\n",
       "    <tr>\n",
       "      <th>158</th>\n",
       "      <td>2017-02-24</td>\n",
       "      <td>-0.047011</td>\n",
       "    </tr>\n",
       "    <tr>\n",
       "      <th>159</th>\n",
       "      <td>2017-02-25</td>\n",
       "      <td>-0.037316</td>\n",
       "    </tr>\n",
       "    <tr>\n",
       "      <th>160</th>\n",
       "      <td>2017-02-26</td>\n",
       "      <td>-0.026809</td>\n",
       "    </tr>\n",
       "    <tr>\n",
       "      <th>161</th>\n",
       "      <td>2017-02-27</td>\n",
       "      <td>-0.000880</td>\n",
       "    </tr>\n",
       "    <tr>\n",
       "      <th>162</th>\n",
       "      <td>2017-02-28</td>\n",
       "      <td>-0.029667</td>\n",
       "    </tr>\n",
       "  </tbody>\n",
       "</table>\n",
       "<p>163 rows × 2 columns</p>\n",
       "</div>"
      ],
      "text/plain": [
       "           date  avg_sentiment\n",
       "0    2016-08-30       0.004792\n",
       "1    2016-08-31       0.017462\n",
       "2    2016-09-01      -0.012195\n",
       "3    2016-09-02      -0.005316\n",
       "4    2016-09-03       0.016786\n",
       "..          ...            ...\n",
       "158  2017-02-24      -0.047011\n",
       "159  2017-02-25      -0.037316\n",
       "160  2017-02-26      -0.026809\n",
       "161  2017-02-27      -0.000880\n",
       "162  2017-02-28      -0.029667\n",
       "\n",
       "[163 rows x 2 columns]"
      ]
     },
     "execution_count": 13,
     "metadata": {},
     "output_type": "execute_result"
    }
   ],
   "source": [
    "daily_sentiment_pd"
   ]
  },
  {
   "cell_type": "code",
   "execution_count": 18,
   "id": "ab4a8583",
   "metadata": {
    "scrolled": true
   },
   "outputs": [
    {
     "data": {
      "text/plain": [
       "Text(0, 0.5, 'Sentinment')"
      ]
     },
     "execution_count": 18,
     "metadata": {},
     "output_type": "execute_result"
    },
    {
     "data": {
      "image/png": "[encoded data removed]",
      "text/plain": [
       "<Figure size 432x288 with 1 Axes>"
      ]
     },
     "metadata": {
      "needs_background": "light"
     },
     "output_type": "display_data"
    }
   ],
   "source": [
    "plt.plot(daily_sentiment_pd['date'],daily_sentiment_pd['avg_sentiment'])\n",
    "plt.title('Daily Averaged Trump Tweet Sentiment')\n",
    "plt.xlabel('Date')\n",
    "plt.ylabel('Sentinment')"
   ]
  },
  {
   "cell_type": "code",
   "execution_count": null,
   "id": "fd3fe641",
   "metadata": {},
   "outputs": [],
   "source": []
  }
 ],
 "metadata": {
  "kernelspec": {
   "display_name": "Python 3 (ipykernel)",
   "language": "python",
   "name": "python3"
  },
  "language_info": {
   "codemirror_mode": {
    "name": "ipython",
    "version": 3
   },
   "file_extension": ".py",
   "mimetype": "text/x-python",
   "name": "python",
   "nbconvert_exporter": "python",
   "pygments_lexer": "ipython3",
   "version": "3.10.7"
  }
 },
 "nbformat": 4,
 "nbformat_minor": 5
}
