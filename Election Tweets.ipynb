{
 "cells": [
  {
   "cell_type": "code",
   "execution_count": 1,
   "id": "50c4ff1d",
   "metadata": {},
   "outputs": [],
   "source": [
    "from pyspark.sql import SparkSession\n",
    "from pyspark.sql.functions import col, udf, to_date\n",
    "from pyspark.sql.types import FloatType\n",
    "from vaderSentiment.vaderSentiment import SentimentIntensityAnalyzer"
   ]
  },
  {
   "cell_type": "code",
   "execution_count": 2,
   "id": "41299c48",
   "metadata": {
    "scrolled": true
   },
   "outputs": [
    {
     "data": {
      "text/html": [
       "\n",
       "        <div>\n",
       "            <p><b>SparkContext</b></p>\n",
       "\n",
       "            <p><a href=\"http://10.0.2.15:4041\">Spark UI</a></p>\n",
       "\n",
       "            <dl>\n",
       "              <dt>Version</dt>\n",
       "                <dd><code>v3.2.3</code></dd>\n",
       "              <dt>Master</dt>\n",
       "                <dd><code>local[*]</code></dd>\n",
       "              <dt>AppName</dt>\n",
       "                <dd><code>PySparkShell</code></dd>\n",
       "            </dl>\n",
       "        </div>\n",
       "        "
      ],
      "text/plain": [
       "<SparkContext master=local[*] appName=PySparkShell>"
      ]
     },
     "execution_count": 2,
     "metadata": {},
     "output_type": "execute_result"
    }
   ],
   "source": [
    "# Check if Spark is running\n",
    "sc"
   ]
  },
  {
   "cell_type": "code",
   "execution_count": 3,
   "id": "90b96987",
   "metadata": {},
   "outputs": [],
   "source": [
    "filename = '2016_US_election_tweets.csv'\n",
    "\n",
    "# Read input file from hadoop directory and convert to pandas\n",
    "df = spark.read.csv('/user1/CA2/'+filename,header=True)\n"
   ]
  },
  {
   "cell_type": "code",
   "execution_count": 4,
   "id": "eef35ac0",
   "metadata": {
    "scrolled": false
   },
   "outputs": [],
   "source": [
    "df = df.select('candidate_id', \"created_at\", \"tweet_text\")"
   ]
  },
  {
   "cell_type": "code",
   "execution_count": 5,
   "id": "304c1eeb",
   "metadata": {},
   "outputs": [
    {
     "name": "stdout",
     "output_type": "stream",
     "text": [
      "+-------------------+-------------------+--------------------+\n",
      "|       candidate_id|         created_at|          tweet_text|\n",
      "+-------------------+-------------------+--------------------+\n",
      "|                  1|2016-08-30 14:41:22|@zitto007 @Matthe...|\n",
      "|                  1|2016-08-30 14:41:22|I think @HumaAbed...|\n",
      "|                  1|2016-08-30 14:41:24|                null|\n",
      "|                  1|2016-08-30 14:41:25|                null|\n",
      "|                  1|2016-08-30 14:41:25|                null|\n",
      "|                  1|2016-08-30 14:41:25|                null|\n",
      "|                  1|2016-08-30 14:41:25|@HillaryClinton @...|\n",
      "|                  1|2016-08-30 14:41:26|                null|\n",
      "|                  1|2016-08-30 14:41:26|                null|\n",
      "|                  3|2016-08-30 14:41:27|                null|\n",
      "|                  1|2016-08-30 14:41:28|@HillaryClinton @...|\n",
      "|                  1|2016-08-30 14:41:29|                null|\n",
      "|                  3|2016-08-30 14:41:31|@BrinckJeff @POTU...|\n",
      "|                  1|2016-08-30 14:41:31|                null|\n",
      "|                  1|2016-08-30 14:41:32|                null|\n",
      "|                  1|2016-08-30 14:41:32|                null|\n",
      "|                  1|               null|@realDonaldTrump ...|\n",
      "|               null|               null|                null|\n",
      "|2016-08-30 14:41:32|               null|                null|\n",
      "|                  3|2016-08-30 14:41:32|        @BarackObama|\n",
      "+-------------------+-------------------+--------------------+\n",
      "only showing top 20 rows\n",
      "\n"
     ]
    }
   ],
   "source": [
    "df.show()"
   ]
  },
  {
   "cell_type": "code",
   "execution_count": 6,
   "id": "96557282",
   "metadata": {},
   "outputs": [],
   "source": [
    "df_no_nulls = df.na.drop()\n",
    "tweets = df_no_nulls.filter(df.candidate_id == 2)"
   ]
  },
  {
   "cell_type": "code",
   "execution_count": null,
   "id": "4f2d8dcb",
   "metadata": {},
   "outputs": [],
   "source": []
  },
  {
   "cell_type": "code",
   "execution_count": 7,
   "id": "521f4611",
   "metadata": {},
   "outputs": [
    {
     "name": "stdout",
     "output_type": "stream",
     "text": [
      "+------------+-------------------+------------------------------------------------------------+\n",
      "|candidate_id|         created_at|                                                  tweet_text|\n",
      "+------------+-------------------+------------------------------------------------------------+\n",
      "|           2|2017-02-17 08:46:52|@realDonaldTrump see even he saying the media and journal...|\n",
      "|           2|2017-02-17 08:48:31|    @jackschofield @realDonaldTrump  https://t.co/d6xhiIE14B|\n",
      "|           2|2017-02-17 08:48:50|MT @VoteTrumpPics: Thank you @realDonaldTrump for being a...|\n",
      "|           2|2017-02-17 08:48:53|Accidentally stumbled upon a 'popping' vid, the stuff com...|\n",
      "|           2|2017-02-17 08:49:05|@realDonaldTrump I hope your tax plan roll out is a plan ...|\n",
      "|           2|2017-02-17 11:51:36|@realDonaldTrump where is your psych evaluation?  You nee...|\n",
      "|           2|2017-02-17 11:51:38|@realDonaldTrump that's the point you're at? Rush Limbaug...|\n",
      "|           2|2017-02-17 11:51:40|                    @realDonaldTrump https://t.co/vos4r41K6A|\n",
      "|           2|2017-02-17 11:51:50|@realDonaldTrump Listening to Rush and @foxandfriends is ...|\n",
      "|           2|2017-02-17 11:51:59|@realDonaldTrump Thank you for all the nice statements on...|\n",
      "|           2|2017-02-17 11:52:00|@peddoc63 @realDonaldTrump enjoy reading your tweets very...|\n",
      "|           2|2017-02-17 11:52:07|@Channel4News @BBCNewsnight are not happy. Why are UK pub...|\n",
      "|           2|2017-02-17 11:52:12|@realDonaldTrump libs gonna whine too https://t.co/sEl9aH...|\n",
      "|           2|2017-02-17 11:52:13|                                  @realDonaldTrump finally!!|\n",
      "|           2|2017-02-17 11:52:24|@VicenteFoxQue @realDonaldTrump 🦊=🐷 part of the mess is...|\n",
      "|           2|2017-02-17 11:52:29|We don't see or feel any tiny change since Trump over too...|\n",
      "|           2|2017-02-17 11:52:31|@realdonaldtrump Please mr president remember my people (...|\n",
      "|           2|2017-02-17 11:52:33|                          Dick move. https://t.co/tb4KQxf7en|\n",
      "|           2|2017-02-17 11:52:34|.@realDonaldTrump What are you replacing it with, Donny-b...|\n",
      "|           2|2017-02-17 11:52:37|            @realDonaldTrump you looked like a psycho clown!|\n",
      "+------------+-------------------+------------------------------------------------------------+\n",
      "only showing top 20 rows\n",
      "\n"
     ]
    }
   ],
   "source": [
    "tweets.show(truncate=60)"
   ]
  },
  {
   "cell_type": "code",
   "execution_count": 8,
   "id": "012695a3",
   "metadata": {},
   "outputs": [
    {
     "data": {
      "text/plain": [
       "<function __main__.analyze_sentiment(text)>"
      ]
     },
     "execution_count": 8,
     "metadata": {},
     "output_type": "execute_result"
    }
   ],
   "source": [
    "analyzer = SentimentIntensityAnalyzer()\n",
    "\n",
    "def analyze_sentiment(text):\n",
    "    return analyzer.polarity_scores(text)[\"compound\"]\n",
    "\n",
    "sentiment_udf = udf(analyze_sentiment, FloatType())\n",
    "spark.udf.register(\"sentiment_udf\", sentiment_udf)"
   ]
  },
  {
   "cell_type": "code",
   "execution_count": 9,
   "id": "523e5d73",
   "metadata": {},
   "outputs": [],
   "source": [
    "# Convert timestamp to date\n",
    "tweets = tweets.withColumn(\"date\", to_date(col(\"created_at\")))\n",
    "\n",
    "# Calculate sentiment score for each tweet\n",
    "tweets = tweets.withColumn(\"sentiment\", sentiment_udf(col(\"tweet_text\")))\n"
   ]
  },
  {
   "cell_type": "code",
   "execution_count": 10,
   "id": "c0c2c5c1",
   "metadata": {},
   "outputs": [
    {
     "name": "stderr",
     "output_type": "stream",
     "text": [
      "\r",
      "[Stage 3:>                                                          (0 + 1) / 1]\r"
     ]
    },
    {
     "name": "stdout",
     "output_type": "stream",
     "text": [
      "+------------+-------------------+----------------------------------------+----------+---------+\n",
      "|candidate_id|         created_at|                              tweet_text|      date|sentiment|\n",
      "+------------+-------------------+----------------------------------------+----------+---------+\n",
      "|           2|2017-02-17 08:46:52|@realDonaldTrump see even he saying t...|2017-02-17|  -0.2023|\n",
      "|           2|2017-02-17 08:48:31|@jackschofield @realDonaldTrump  http...|2017-02-17|      0.0|\n",
      "|           2|2017-02-17 08:48:50|MT @VoteTrumpPics: Thank you @realDon...|2017-02-17|   0.3612|\n",
      "|           2|2017-02-17 08:48:53|Accidentally stumbled upon a 'popping...|2017-02-17|    -0.34|\n",
      "|           2|2017-02-17 08:49:05|@realDonaldTrump I hope your tax plan...|2017-02-17|   0.2942|\n",
      "|           2|2017-02-17 11:51:36|@realDonaldTrump where is your psych ...|2017-02-17|     0.34|\n",
      "|           2|2017-02-17 11:51:38|@realDonaldTrump that's the point you...|2017-02-17|      0.0|\n",
      "|           2|2017-02-17 11:51:40|@realDonaldTrump https://t.co/vos4r41K6A|2017-02-17|      0.0|\n",
      "|           2|2017-02-17 11:51:50|@realDonaldTrump Listening to Rush an...|2017-02-17|      0.0|\n",
      "|           2|2017-02-17 11:51:59|@realDonaldTrump Thank you for all th...|2017-02-17|   0.6106|\n",
      "|           2|2017-02-17 11:52:00|@peddoc63 @realDonaldTrump enjoy read...|2017-02-17|   0.8932|\n",
      "|           2|2017-02-17 11:52:07|@Channel4News @BBCNewsnight are not h...|2017-02-17|  -0.6416|\n",
      "|           2|2017-02-17 11:52:12|@realDonaldTrump libs gonna whine too...|2017-02-17|  -0.3612|\n",
      "|           2|2017-02-17 11:52:13|              @realDonaldTrump finally!!|2017-02-17|      0.0|\n",
      "|           2|2017-02-17 11:52:24|@VicenteFoxQue @realDonaldTrump 🦊=🐷...|2017-02-17|  -0.7351|\n",
      "|           2|2017-02-17 11:52:29|We don't see or feel any tiny change ...|2017-02-17|  -0.6249|\n",
      "|           2|2017-02-17 11:52:31|@realdonaldtrump Please mr president ...|2017-02-17|   0.3182|\n",
      "|           2|2017-02-17 11:52:33|      Dick move. https://t.co/tb4KQxf7en|2017-02-17|  -0.5106|\n",
      "|           2|2017-02-17 11:52:34|.@realDonaldTrump What are you replac...|2017-02-17|      0.0|\n",
      "|           2|2017-02-17 11:52:37|@realDonaldTrump you looked like a ps...|2017-02-17|   0.4199|\n",
      "+------------+-------------------+----------------------------------------+----------+---------+\n",
      "only showing top 20 rows\n",
      "\n"
     ]
    },
    {
     "name": "stderr",
     "output_type": "stream",
     "text": [
      "\r",
      "                                                                                \r"
     ]
    }
   ],
   "source": [
    "tweets.show(truncate=40)"
   ]
  },
  {
   "cell_type": "code",
   "execution_count": null,
   "id": "c7bd280f",
   "metadata": {
    "scrolled": true
   },
   "outputs": [],
   "source": [
    "#num_partitions = tweets.rdd.getNumPartitions()\n",
    "#print(f\"Number of partitions: {num_partitions}\")"
   ]
  },
  {
   "cell_type": "code",
   "execution_count": null,
   "id": "6e2c83ab",
   "metadata": {},
   "outputs": [],
   "source": [
    "#num_partitions = 300  # Adjust this value based on the guidelines above\n",
    "#tweets = tweets.repartition(num_partitions)"
   ]
  },
  {
   "cell_type": "code",
   "execution_count": null,
   "id": "0def9e86",
   "metadata": {},
   "outputs": [],
   "source": [
    "#num_partitions = tweets.rdd.getNumPartitions()\n",
    "#print(f\"Number of partitions: {num_partitions}\")"
   ]
  },
  {
   "cell_type": "code",
   "execution_count": 11,
   "id": "0e648d9c",
   "metadata": {
    "scrolled": true
   },
   "outputs": [],
   "source": [
    "time_based_sentiment = tweets.groupBy(\"candidate_id\", \"date\") \\\n",
    "    .mean(\"sentiment\") \\\n",
    "    .withColumnRenamed(\"avg(sentiment)\", \"sentiment\") \\\n",
    "    .orderBy(\"candidate_id\", \"date\")"
   ]
  },
  {
   "cell_type": "code",
   "execution_count": 12,
   "id": "55e1cf38",
   "metadata": {},
   "outputs": [],
   "source": [
    "from pyspark.sql.functions import col\n",
    "\n",
    "# Replace these values with the desired candidate and date\n",
    "selected_candidate = 2\n",
    "given_date = \"2016-01-01\"\n",
    "\n",
    "filtered_df = time_based_sentiment.filter(\n",
    "    (col(\"candidate_id\") == selected_candidate) & (col(\"date\") >= given_date)\n",
    ")"
   ]
  },
  {
   "cell_type": "code",
   "execution_count": null,
   "id": "7b29c524",
   "metadata": {},
   "outputs": [
    {
     "name": "stderr",
     "output_type": "stream",
     "text": [
      "[Stage 4:==============>                                         (28 + 4) / 106]\r"
     ]
    }
   ],
   "source": [
    "df = filtered_df.toPandas()"
   ]
  },
  {
   "cell_type": "code",
   "execution_count": null,
   "id": "bcfdcb96",
   "metadata": {},
   "outputs": [],
   "source": [
    "import matplotlib.pyplot as plt\n",
    "plt.plot(df['date'][1:], df['sentiment'][1:])"
   ]
  },
  {
   "cell_type": "code",
   "execution_count": null,
   "id": "a8e0ba81",
   "metadata": {},
   "outputs": [],
   "source": []
  }
 ],
 "metadata": {
  "kernelspec": {
   "display_name": "Python 3 (ipykernel)",
   "language": "python",
   "name": "python3"
  },
  "language_info": {
   "codemirror_mode": {
    "name": "ipython",
    "version": 3
   },
   "file_extension": ".py",
   "mimetype": "text/x-python",
   "name": "python",
   "nbconvert_exporter": "python",
   "pygments_lexer": "ipython3",
   "version": "3.10.7"
  }
 },
 "nbformat": 4,
 "nbformat_minor": 5
}
