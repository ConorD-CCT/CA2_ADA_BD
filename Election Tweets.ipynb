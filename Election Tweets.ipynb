{
 "cells": [
  {
   "cell_type": "code",
   "execution_count": 23,
   "id": "50c4ff1d",
   "metadata": {},
   "outputs": [],
   "source": [
    "from pyspark.sql import SparkSession\n",
    "from pyspark.sql.functions import col, udf, to_date\n",
    "from pyspark.sql.types import FloatType\n",
    "from vaderSentiment.vaderSentiment import SentimentIntensityAnalyzer"
   ]
  },
  {
   "cell_type": "code",
   "execution_count": 24,
   "id": "41299c48",
   "metadata": {
    "scrolled": true
   },
   "outputs": [
    {
     "data": {
      "text/html": [
       "\n",
       "        <div>\n",
       "            <p><b>SparkContext</b></p>\n",
       "\n",
       "            <p><a href=\"http://10.0.2.15:4041\">Spark UI</a></p>\n",
       "\n",
       "            <dl>\n",
       "              <dt>Version</dt>\n",
       "                <dd><code>v3.2.3</code></dd>\n",
       "              <dt>Master</dt>\n",
       "                <dd><code>local[*]</code></dd>\n",
       "              <dt>AppName</dt>\n",
       "                <dd><code>PySparkShell</code></dd>\n",
       "            </dl>\n",
       "        </div>\n",
       "        "
      ],
      "text/plain": [
       "<SparkContext master=local[*] appName=PySparkShell>"
      ]
     },
     "execution_count": 24,
     "metadata": {},
     "output_type": "execute_result"
    }
   ],
   "source": [
    "# Check if Spark is running\n",
    "sc"
   ]
  },
  {
   "cell_type": "code",
   "execution_count": 25,
   "id": "90b96987",
   "metadata": {},
   "outputs": [],
   "source": [
    "filename = '2016_US_election_tweets.csv'\n",
    "\n",
    "# Read input file from hadoop directory and convert to pandas\n",
    "df = spark.read.csv('/user1/CA2/'+filename,header=True)\n"
   ]
  },
  {
   "cell_type": "code",
   "execution_count": 26,
   "id": "eef35ac0",
   "metadata": {
    "scrolled": false
   },
   "outputs": [],
   "source": [
    "df = df.select('candidate_id', \"created_at\", \"tweet_text\")"
   ]
  },
  {
   "cell_type": "code",
   "execution_count": 27,
   "id": "304c1eeb",
   "metadata": {},
   "outputs": [
    {
     "name": "stdout",
     "output_type": "stream",
     "text": [
      "+-------------------+-------------------+--------------------+\n",
      "|       candidate_id|         created_at|          tweet_text|\n",
      "+-------------------+-------------------+--------------------+\n",
      "|                  1|2016-08-30 14:41:22|@zitto007 @Matthe...|\n",
      "|                  1|2016-08-30 14:41:22|I think @HumaAbed...|\n",
      "|                  1|2016-08-30 14:41:24|                null|\n",
      "|                  1|2016-08-30 14:41:25|                null|\n",
      "|                  1|2016-08-30 14:41:25|                null|\n",
      "|                  1|2016-08-30 14:41:25|                null|\n",
      "|                  1|2016-08-30 14:41:25|@HillaryClinton @...|\n",
      "|                  1|2016-08-30 14:41:26|                null|\n",
      "|                  1|2016-08-30 14:41:26|                null|\n",
      "|                  3|2016-08-30 14:41:27|                null|\n",
      "|                  1|2016-08-30 14:41:28|@HillaryClinton @...|\n",
      "|                  1|2016-08-30 14:41:29|                null|\n",
      "|                  3|2016-08-30 14:41:31|@BrinckJeff @POTU...|\n",
      "|                  1|2016-08-30 14:41:31|                null|\n",
      "|                  1|2016-08-30 14:41:32|                null|\n",
      "|                  1|2016-08-30 14:41:32|                null|\n",
      "|                  1|               null|@realDonaldTrump ...|\n",
      "|               null|               null|                null|\n",
      "|2016-08-30 14:41:32|               null|                null|\n",
      "|                  3|2016-08-30 14:41:32|        @BarackObama|\n",
      "+-------------------+-------------------+--------------------+\n",
      "only showing top 20 rows\n",
      "\n"
     ]
    }
   ],
   "source": [
    "df.show()"
   ]
  },
  {
   "cell_type": "code",
   "execution_count": 38,
   "id": "96557282",
   "metadata": {},
   "outputs": [],
   "source": [
    "df_no_nulls = df.na.drop()\n",
    "tweets = df_no_nulls.filter(df.candidate_id < 2)"
   ]
  },
  {
   "cell_type": "code",
   "execution_count": null,
   "id": "4f2d8dcb",
   "metadata": {},
   "outputs": [],
   "source": []
  },
  {
   "cell_type": "code",
   "execution_count": 39,
   "id": "521f4611",
   "metadata": {},
   "outputs": [
    {
     "name": "stdout",
     "output_type": "stream",
     "text": [
      "+------------+-------------------+------------------------------------------------------------+\n",
      "|candidate_id|         created_at|                                                  tweet_text|\n",
      "+------------+-------------------+------------------------------------------------------------+\n",
      "|           1|2016-08-30 14:41:22|@zitto007 @MatthewHrenak @FoxNews @HillaryClinton And you...|\n",
      "|           1|2016-08-30 14:41:22|I think @HumaAbedin should be ashamed that she didn't sta...|\n",
      "|           1|2016-08-30 14:41:25|@HillaryClinton @realDonaldTrump @CNN #trumpPence16 https...|\n",
      "|           1|2016-08-30 14:41:28|@HillaryClinton @Comeridethwhale so are you! trump &amp; ...|\n",
      "|           1|2016-08-30 14:41:33|@HillaryClinton https://t.co/pgck0ifrzC atleast @realDona...|\n",
      "|           1|2016-08-30 14:41:33|Working people: @HillaryClinton, not @realDonaldTrump, is...|\n",
      "|           1|2016-08-30 14:41:34|@FoxNews no, @JohnKerry the media needs 2 stop covering u...|\n",
      "|           1|2016-08-30 14:41:36|#NYTimes getting a quote from #Trump on how #Weiner divor...|\n",
      "|           1|2016-08-30 14:41:36|Working people: @HillaryClinton, not @realDonaldTrump, is...|\n",
      "|           1|2016-08-30 14:41:36|                         squad goals https://t.co/sPssovyBDt|\n",
      "|           1|2016-08-30 14:41:36|THIS was the point of @HillaryClinton's alt-right speech:...|\n",
      "|           1|2016-08-30 14:41:37|@Deathc0de @JamesPMorrison @HillaryClinton sure he was! @...|\n",
      "|           1|2016-08-30 14:41:37|@craigmelvin Is it a crime now for @HillaryClinton to rai...|\n",
      "|           1|2016-08-30 14:41:38|@Reince @HillaryClinton SO why do YOU care? Keep your FLI...|\n",
      "|           1|2016-08-30 14:41:39|      @Marycar08639249 @HillaryClinton Have fun with Donnie.|\n",
      "|           1|2016-08-30 14:41:40|@sarahleahwolfe @finkd @MSNBC @HillaryClinton Well, she h...|\n",
      "|           1|2016-08-30 14:41:41|                                             @HillaryClinton|\n",
      "|           1|2016-08-30 14:41:41|Won't help her really. If @SenSanders begged me personall...|\n",
      "|           1|2016-08-30 14:41:41|I'm proud to be on Team @HillaryClinton. You should join,...|\n",
      "|           1|2016-08-30 14:41:41|.@HillaryClinton We need federal laws for severe animal a...|\n",
      "+------------+-------------------+------------------------------------------------------------+\n",
      "only showing top 20 rows\n",
      "\n"
     ]
    }
   ],
   "source": [
    "df_filtered.show(truncate=60)"
   ]
  },
  {
   "cell_type": "code",
   "execution_count": 40,
   "id": "012695a3",
   "metadata": {},
   "outputs": [
    {
     "name": "stderr",
     "output_type": "stream",
     "text": [
      "2023-05-07 20:20:17,340 WARN analysis.SimpleFunctionRegistry: The function sentiment_udf replaced a previously registered function.\n"
     ]
    },
    {
     "data": {
      "text/plain": [
       "<function __main__.analyze_sentiment(text)>"
      ]
     },
     "execution_count": 40,
     "metadata": {},
     "output_type": "execute_result"
    }
   ],
   "source": [
    "analyzer = SentimentIntensityAnalyzer()\n",
    "\n",
    "def analyze_sentiment(text):\n",
    "    return analyzer.polarity_scores(text)[\"compound\"]\n",
    "\n",
    "sentiment_udf = udf(analyze_sentiment, FloatType())\n",
    "spark.udf.register(\"sentiment_udf\", sentiment_udf)"
   ]
  },
  {
   "cell_type": "code",
   "execution_count": 41,
   "id": "523e5d73",
   "metadata": {},
   "outputs": [],
   "source": [
    "# Convert timestamp to date\n",
    "tweets = tweets.withColumn(\"date\", to_date(col(\"created_at\")))\n",
    "\n",
    "# Calculate sentiment score for each tweet\n",
    "tweets = tweets.withColumn(\"sentiment\", sentiment_udf(col(\"tweet_text\")))\n"
   ]
  },
  {
   "cell_type": "code",
   "execution_count": 43,
   "id": "c0c2c5c1",
   "metadata": {},
   "outputs": [
    {
     "name": "stdout",
     "output_type": "stream",
     "text": [
      "+------------+-------------------+----------------------------------------+----------+---------+\n",
      "|candidate_id|         created_at|                              tweet_text|      date|sentiment|\n",
      "+------------+-------------------+----------------------------------------+----------+---------+\n",
      "|           1|2016-08-30 14:41:22|@zitto007 @MatthewHrenak @FoxNews @Hi...|2016-08-30|  -0.6166|\n",
      "|           1|2016-08-30 14:41:22|I think @HumaAbedin should be ashamed...|2016-08-30|  -0.5994|\n",
      "|           1|2016-08-30 14:41:25|@HillaryClinton @realDonaldTrump @CNN...|2016-08-30|      0.0|\n",
      "|           1|2016-08-30 14:41:28|@HillaryClinton @Comeridethwhale so a...|2016-08-30|  -0.8016|\n",
      "|           1|2016-08-30 14:41:33|@HillaryClinton https://t.co/pgck0ifr...|2016-08-30|    -0.75|\n",
      "|           1|2016-08-30 14:41:33|Working people: @HillaryClinton, not ...|2016-08-30|   0.3818|\n",
      "|           1|2016-08-30 14:41:34|@FoxNews no, @JohnKerry the media nee...|2016-08-30|  -0.7783|\n",
      "|           1|2016-08-30 14:41:36|#NYTimes getting a quote from #Trump ...|2016-08-30|      0.0|\n",
      "|           1|2016-08-30 14:41:36|Working people: @HillaryClinton, not ...|2016-08-30|   0.3818|\n",
      "|           1|2016-08-30 14:41:36|     squad goals https://t.co/sPssovyBDt|2016-08-30|      0.0|\n",
      "|           1|2016-08-30 14:41:36|THIS was the point of @HillaryClinton...|2016-08-30|      0.0|\n",
      "|           1|2016-08-30 14:41:37|@Deathc0de @JamesPMorrison @HillaryCl...|2016-08-30|   0.6114|\n",
      "|           1|2016-08-30 14:41:37|@craigmelvin Is it a crime now for @H...|2016-08-30|  -0.2714|\n",
      "|           1|2016-08-30 14:41:38|@Reince @HillaryClinton SO why do YOU...|2016-08-30|  -0.1759|\n",
      "|           1|2016-08-30 14:41:39|@Marycar08639249 @HillaryClinton Have...|2016-08-30|   0.5106|\n",
      "|           1|2016-08-30 14:41:40|@sarahleahwolfe @finkd @MSNBC @Hillar...|2016-08-30|   0.2732|\n",
      "|           1|2016-08-30 14:41:41|                         @HillaryClinton|2016-08-30|      0.0|\n",
      "|           1|2016-08-30 14:41:41|Won't help her really. If @SenSanders...|2016-08-30|  -0.3089|\n",
      "|           1|2016-08-30 14:41:41|I'm proud to be on Team @HillaryClint...|2016-08-30|     0.68|\n",
      "|           1|2016-08-30 14:41:41|.@HillaryClinton We need federal laws...|2016-08-30|  -0.8834|\n",
      "+------------+-------------------+----------------------------------------+----------+---------+\n",
      "only showing top 20 rows\n",
      "\n"
     ]
    },
    {
     "name": "stderr",
     "output_type": "stream",
     "text": [
      "\r",
      "[Stage 20:>                                                         (0 + 1) / 1]\r",
      "\r",
      "                                                                                \r"
     ]
    }
   ],
   "source": [
    "tweets.show(truncate=40)"
   ]
  },
  {
   "cell_type": "code",
   "execution_count": 45,
   "id": "0e648d9c",
   "metadata": {},
   "outputs": [],
   "source": [
    "time_based_sentiment = tweets.groupBy(\"candidate_id\", \"date\") \\\n",
    "    .mean(\"sentiment\") \\\n",
    "    .withColumnRenamed(\"avg(sentiment)\", \"sentiment\") \\\n",
    "    .orderBy(\"candidate_id\", \"date\")"
   ]
  },
  {
   "cell_type": "code",
   "execution_count": 46,
   "id": "7b29c524",
   "metadata": {},
   "outputs": [
    {
     "name": "stderr",
     "output_type": "stream",
     "text": [
      "                                                                                \r"
     ]
    }
   ],
   "source": [
    "df = time_based_sentiment.toPandas()"
   ]
  },
  {
   "cell_type": "code",
   "execution_count": null,
   "id": "bcfdcb96",
   "metadata": {},
   "outputs": [],
   "source": []
  }
 ],
 "metadata": {
  "kernelspec": {
   "display_name": "Python 3 (ipykernel)",
   "language": "python",
   "name": "python3"
  },
  "language_info": {
   "codemirror_mode": {
    "name": "ipython",
    "version": 3
   },
   "file_extension": ".py",
   "mimetype": "text/x-python",
   "name": "python",
   "nbconvert_exporter": "python",
   "pygments_lexer": "ipython3",
   "version": "3.10.7"
  }
 },
 "nbformat": 4,
 "nbformat_minor": 5
}
