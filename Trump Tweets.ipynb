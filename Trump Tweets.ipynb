{
 "cells": [
  {
   "cell_type": "code",
   "execution_count": null,
   "id": "a0cb21f8",
   "metadata": {},
   "outputs": [],
   "source": [
    "spark.conf.set(\"spark.sql.execution.arrow.pyspark.enabled\", \"true\")\n"
   ]
  },
  {
   "cell_type": "code",
   "execution_count": null,
   "id": "50c4ff1d",
   "metadata": {},
   "outputs": [],
   "source": [
    "from pyspark.sql import SparkSession\n",
    "from pyspark.sql.functions import col, udf, to_date\n",
    "from pyspark.sql.types import FloatType\n",
    "from vaderSentiment.vaderSentiment import SentimentIntensityAnalyzer\n",
    "import pandas as pd\n",
    "import pyspark.sql.functions as F\n",
    "import matplotlib.pyplot as plt"
   ]
  },
  {
   "cell_type": "code",
   "execution_count": null,
   "id": "41299c48",
   "metadata": {
    "scrolled": true
   },
   "outputs": [],
   "source": [
    "# Check if Spark is running\n",
    "sc"
   ]
  },
  {
   "cell_type": "code",
   "execution_count": null,
   "id": "90b96987",
   "metadata": {},
   "outputs": [],
   "source": [
    "filename = 'tweets.csv'\n",
    "\n",
    "# Read input file from hadoop directory and convert to pandas\n",
    "df = spark.read.csv('/user1/CA2/'+filename,header=True)\n"
   ]
  },
  {
   "cell_type": "code",
   "execution_count": null,
   "id": "ed558f3c",
   "metadata": {},
   "outputs": [],
   "source": [
    "df.show(truncate = 10)"
   ]
  },
  {
   "cell_type": "code",
   "execution_count": null,
   "id": "eef35ac0",
   "metadata": {
    "scrolled": false
   },
   "outputs": [],
   "source": [
    "df = df.na.drop()"
   ]
  },
  {
   "cell_type": "code",
   "execution_count": null,
   "id": "ee91a858",
   "metadata": {},
   "outputs": [],
   "source": [
    "df.show(truncate = 10)"
   ]
  },
  {
   "cell_type": "code",
   "execution_count": null,
   "id": "012695a3",
   "metadata": {},
   "outputs": [],
   "source": [
    "analyzer = SentimentIntensityAnalyzer()\n",
    "\n",
    "def analyze_sentiment(text):\n",
    "    return analyzer.polarity_scores(text)[\"compound\"]\n",
    "\n",
    "sentiment_udf = udf(analyze_sentiment, FloatType())\n",
    "spark.udf.register(\"sentiment_udf\", sentiment_udf)"
   ]
  },
  {
   "cell_type": "code",
   "execution_count": null,
   "id": "21234f42",
   "metadata": {},
   "outputs": [],
   "source": [
    "df.show(truncate = 10)"
   ]
  },
  {
   "cell_type": "code",
   "execution_count": null,
   "id": "523e5d73",
   "metadata": {},
   "outputs": [],
   "source": [
    "# Convert timestamp to date\n",
    "tweets = df.withColumn(\"date\", to_date(col(\"date\")))\n",
    "\n",
    "# Calculate sentiment score for each tweet\n",
    "tweets = tweets.withColumn(\"sentiment\", sentiment_udf(col(\"text\")))\n"
   ]
  },
  {
   "cell_type": "code",
   "execution_count": null,
   "id": "851c84b7",
   "metadata": {},
   "outputs": [],
   "source": [
    "tweets.show(truncate=10)"
   ]
  },
  {
   "cell_type": "code",
   "execution_count": null,
   "id": "0c84466c",
   "metadata": {},
   "outputs": [],
   "source": [
    "from pyspark.sql.functions import year\n",
    "\n",
    "# filter out out-of-range dates\n",
    "tweets = tweets.filter((year(\"date\") >= 1678) & (year(\"date\") <= 2262))"
   ]
  },
  {
   "cell_type": "code",
   "execution_count": null,
   "id": "1e993428",
   "metadata": {},
   "outputs": [],
   "source": [
    "tweets.select('date').distinct().show(1000)"
   ]
  },
  {
   "cell_type": "code",
   "execution_count": null,
   "id": "b41e6345",
   "metadata": {},
   "outputs": [],
   "source": [
    "daily_sentiment_df = tweets.groupBy(\"date\") \\\n",
    "    .agg(F.mean(\"sentiment\").alias(\"avg_sentiment\")) \\\n",
    "    .orderBy(\"date\")"
   ]
  },
  {
   "cell_type": "code",
   "execution_count": null,
   "id": "8b4a035f",
   "metadata": {},
   "outputs": [],
   "source": [
    "daily_sentiment_df.select('date').distinct().show()"
   ]
  },
  {
   "cell_type": "code",
   "execution_count": null,
   "id": "eea265bb",
   "metadata": {
    "scrolled": false
   },
   "outputs": [],
   "source": [
    "daily_sentiment_pd = daily_sentiment_df"
   ]
  },
  {
   "cell_type": "code",
   "execution_count": null,
   "id": "17be8efb",
   "metadata": {},
   "outputs": [],
   "source": [
    "daily_sentiment_df.show()"
   ]
  },
  {
   "cell_type": "code",
   "execution_count": null,
   "id": "7fc5dca1",
   "metadata": {},
   "outputs": [],
   "source": [
    "df2 = daily_sentiment_pd"
   ]
  },
  {
   "cell_type": "code",
   "execution_count": null,
   "id": "a2fec238",
   "metadata": {},
   "outputs": [],
   "source": [
    "print(df2)"
   ]
  },
  {
   "cell_type": "code",
   "execution_count": null,
   "id": "8cc32e02",
   "metadata": {
    "scrolled": true
   },
   "outputs": [],
   "source": [
    "df2['date'] = pd.to_datetime(df2['date'])"
   ]
  },
  {
   "cell_type": "code",
   "execution_count": null,
   "id": "56ea6d96",
   "metadata": {
    "scrolled": true
   },
   "outputs": [],
   "source": [
    "print(df2['date'])"
   ]
  },
  {
   "cell_type": "code",
   "execution_count": null,
   "id": "8ea3cd54",
   "metadata": {},
   "outputs": [],
   "source": [
    "df2 = df2[(df2['date'].dt.year >= 2016) & (df2['date'].dt.year <= 2017)]"
   ]
  },
  {
   "cell_type": "code",
   "execution_count": null,
   "id": "987c1245",
   "metadata": {},
   "outputs": [],
   "source": [
    "print(df2)"
   ]
  },
  {
   "cell_type": "code",
   "execution_count": null,
   "id": "8d575178",
   "metadata": {},
   "outputs": [],
   "source": [
    "df2 = df2.iloc[1:]"
   ]
  },
  {
   "cell_type": "code",
   "execution_count": null,
   "id": "639fb7e9",
   "metadata": {},
   "outputs": [],
   "source": [
    "plt.plot(df2['date'],df2['avg_sentiment'])"
   ]
  },
  {
   "cell_type": "code",
   "execution_count": null,
   "id": "a02156c3",
   "metadata": {},
   "outputs": [],
   "source": [
    "import plotly.express as px"
   ]
  },
  {
   "cell_type": "code",
   "execution_count": null,
   "id": "74a449ec",
   "metadata": {},
   "outputs": [],
   "source": [
    "fig = px.line(x = df2.date,y = df2.avg_sentiment)\n",
    "fig.show()\n"
   ]
  },
  {
   "cell_type": "code",
   "execution_count": null,
   "id": "e67eed28",
   "metadata": {},
   "outputs": [],
   "source": [
    "[print(x) for x in df2['date']] "
   ]
  },
  {
   "cell_type": "code",
   "execution_count": null,
   "id": "ab4a8583",
   "metadata": {},
   "outputs": [],
   "source": []
  }
 ],
 "metadata": {
  "kernelspec": {
   "display_name": "Python 3 (ipykernel)",
   "language": "python",
   "name": "python3"
  },
  "language_info": {
   "codemirror_mode": {
    "name": "ipython",
    "version": 3
   },
   "file_extension": ".py",
   "mimetype": "text/x-python",
   "name": "python",
   "nbconvert_exporter": "python",
   "pygments_lexer": "ipython3",
   "version": "3.10.7"
  }
 },
 "nbformat": 4,
 "nbformat_minor": 5
}
